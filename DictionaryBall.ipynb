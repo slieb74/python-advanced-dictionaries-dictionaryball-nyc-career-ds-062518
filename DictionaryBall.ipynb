{
 "cells": [
  {
   "cell_type": "code",
   "execution_count": 27,
   "metadata": {},
   "outputs": [],
   "source": [
    "import pdb\n",
    "def game_dict():\n",
    "    game_dictionary = {\n",
    "        'home': {\n",
    "        'team_name': 'Brooklyn Nets',\n",
    "        'colors':['Black', 'White'],\n",
    "        'players': {\n",
    "            'Alan Anderson': {'number': 0, 'shoe': 16, 'points': 22, 'rebounds': 12,\n",
    "                                'assists': 12, 'steals':3, 'blocks':1, 'slam_dunks':1},\n",
    "            'Reggie Evans': {'number': 30, 'shoe': 14, 'points': 12, 'rebounds': 12,\n",
    "                                'assists': 12, 'steals':12, 'blocks':12, 'slam_dunks':7},\n",
    "            'Brook Lopez': {'number': 11, 'shoe': 17, 'points': 17, 'rebounds': 19,\n",
    "                                'assists': 10, 'steals':3, 'blocks':1, 'slam_dunks':15},\n",
    "            'Mason Plumlee': {'number': 1, 'shoe': 19, 'points': 26, 'rebounds': 12,\n",
    "                                'assists': 6, 'steals':3, 'blocks':8, 'slam_dunks':5},\n",
    "            'Jason Terry': {'number': 31, 'shoe': 15, 'points': 19, 'rebounds': 2,\n",
    "                                'assists': 2, 'steals':4, 'blocks':11, 'slam_dunks':1}\n",
    "                    }\n",
    "                },\n",
    "        'away': {\n",
    "            'team_name': 'Charlotte Hornets',\n",
    "            'colors':['Turquoise', 'Purple'],\n",
    "            'players': {\n",
    "                'Jeff Adrien': {'number': 4, 'shoe': 18, 'points': 10, 'rebounds': 1,\n",
    "                                'assists': 1, 'steals': 2, 'blocks': 7, 'slam dunks': 2},\n",
    "                'Bismack Biyombo': {'number': 0, 'shoe': 16, 'points': 12, 'rebounds': 4,\n",
    "                                'assists': 7, 'steals': 7, 'blocks': 15, 'slam dunks': 10},\n",
    "                'DeSagna Diop':{'number': 2, 'shoe': 14, 'points': 24, 'rebounds': 12,\n",
    "                                'assists': 12, 'steals': 4, 'blocks': 5, 'slam dunks': 5},\n",
    "                'Ben Gordon':{'number': 8, 'shoe': 15, 'points': 33, 'rebounds': 3,\n",
    "                                'assists': 2, 'steals': 1, 'blocks': 1, 'slam dunks': 0},\n",
    "                'Brendan Haywood':{'number': 33, 'shoe': 15, 'points': 6, 'rebounds': 12,\n",
    "                                'assists': 12, 'steals': 22, 'blocks': 5, 'slam dunks': 12}\n",
    "                        }\n",
    "                }\n",
    "            }\n",
    "    return game_dictionary\n",
    "\n",
    "game_dictionary = game_dict()"
   ]
  },
  {
   "cell_type": "code",
   "execution_count": 11,
   "metadata": {},
   "outputs": [
    {
     "data": {
      "text/plain": [
       "dict_keys(['team_name', 'colors', 'players'])"
      ]
     },
     "execution_count": 11,
     "metadata": {},
     "output_type": "execute_result"
    }
   ],
   "source": [
    "list(game_dictionary.values())[0].keys()"
   ]
  },
  {
   "cell_type": "markdown",
   "metadata": {},
   "source": [
    "1. Try to eliminate the data that you have to consider\n",
    "\n",
    "    - .keys(), .values()\n",
    "    - instead of iterating through the attributes of a dictionary, can we just directly access the attribute ['home']\n",
    "    - Just dolve this for specific piece of data first, then apply to all data\n",
    "    - Be careful about nesting even two levels\n",
    "    - If we are creating new variables, by iterating,\n",
    "    - Help ourselves with descriptive names of things"
   ]
  },
  {
   "cell_type": "code",
   "execution_count": 63,
   "metadata": {},
   "outputs": [],
   "source": [
    "# creates list containing dictionaries for each team\n",
    "teams = [v['players'] for k,v in game_dictionary.items()]\n",
    "\n",
    "# creats one dictionary with all players, not separated by teams\n",
    "players = {}\n",
    "for team in teams:\n",
    "    players.update(team)\n"
   ]
  },
  {
   "cell_type": "code",
   "execution_count": 85,
   "metadata": {},
   "outputs": [],
   "source": [
    "# COPY vs. DEEPCOPY\n",
    "\n",
    "copy_of_game_dictionary = game_dictionary.copy()\n",
    "copy_of_game_dictionary['colors'] = ['blue', 'red']"
   ]
  },
  {
   "cell_type": "code",
   "execution_count": 96,
   "metadata": {},
   "outputs": [
    {
     "data": {
      "text/plain": [
       "'Blue'"
      ]
     },
     "execution_count": 96,
     "metadata": {},
     "output_type": "execute_result"
    }
   ],
   "source": [
    "copy_of_game_dictionary['away']['colors'].append('Blue')"
   ]
  },
  {
   "cell_type": "code",
   "execution_count": 98,
   "metadata": {},
   "outputs": [
    {
     "data": {
      "text/plain": [
       "['Turquoise', 'Purple', 'Blue']"
      ]
     },
     "execution_count": 98,
     "metadata": {},
     "output_type": "execute_result"
    }
   ],
   "source": [
    "copy_of_game_dictionary['away']['colors']"
   ]
  },
  {
   "cell_type": "code",
   "execution_count": 99,
   "metadata": {},
   "outputs": [
    {
     "data": {
      "text/plain": [
       "['Turquoise', 'Purple', 'Blue']"
      ]
     },
     "execution_count": 99,
     "metadata": {},
     "output_type": "execute_result"
    }
   ],
   "source": [
    "game_dictionary['away']['colors']"
   ]
  },
  {
   "cell_type": "code",
   "execution_count": 56,
   "metadata": {},
   "outputs": [
    {
     "name": "stdout",
     "output_type": "stream",
     "text": [
      "33\n"
     ]
    }
   ],
   "source": [
    "def num_points_scored(player_name):\n",
    "    return players[player_name]['points']\n",
    "    \n",
    "print(num_points_scored('Ben Gordon'))"
   ]
  },
  {
   "cell_type": "code",
   "execution_count": 64,
   "metadata": {},
   "outputs": [
    {
     "data": {
      "text/plain": [
       "14"
      ]
     },
     "execution_count": 64,
     "metadata": {},
     "output_type": "execute_result"
    }
   ],
   "source": [
    "def shoe_size(player_name):\n",
    "    #return players[player_name]['shoe']\n",
    "    for name, stats in players.items():\n",
    "        if name == player_name:\n",
    "            return stats['shoe']\n",
    "        \n",
    "shoe_size('Reggie Evans')"
   ]
  },
  {
   "cell_type": "code",
   "execution_count": 30,
   "metadata": {},
   "outputs": [
    {
     "name": "stdout",
     "output_type": "stream",
     "text": [
      "['Turquoise', 'Purple']\n"
     ]
    }
   ],
   "source": [
    "def team_colors(team_name):\n",
    "    return [color for k,v in game_dictionary.items() if v['team_name'] == team_name for color in v['colors']]\n",
    " \n",
    "print(team_colors('Charlotte Hornets'))"
   ]
  },
  {
   "cell_type": "code",
   "execution_count": 31,
   "metadata": {},
   "outputs": [
    {
     "name": "stdout",
     "output_type": "stream",
     "text": [
      "['Brooklyn Nets', 'Charlotte Hornets']\n"
     ]
    }
   ],
   "source": [
    "def team_names():\n",
    "    return [v['team_name'] for k,v in game_dictionary.items()]\n",
    "  \n",
    "print(team_names())"
   ]
  },
  {
   "cell_type": "code",
   "execution_count": 32,
   "metadata": {},
   "outputs": [
    {
     "name": "stdout",
     "output_type": "stream",
     "text": [
      "[4, 0, 2, 8, 33]\n"
     ]
    }
   ],
   "source": [
    "def player_numbers(team_name):\n",
    "    player_numbers = []\n",
    "    for location in game_dictionary.keys():\n",
    "        if (game_dictionary[location]['team_name']) == team_name:\n",
    "            for player in (game_dictionary[location]['players']):\n",
    "                player_numbers.append(players[player]['number'])\n",
    "    return player_numbers\n",
    "\n",
    "print(player_numbers('Charlotte Hornets'))"
   ]
  },
  {
   "cell_type": "code",
   "execution_count": 33,
   "metadata": {},
   "outputs": [
    {
     "name": "stdout",
     "output_type": "stream",
     "text": [
      "{'number': 8, 'shoe': 15, 'points': 33, 'rebounds': 3, 'assists': 2, 'steals': 1, 'blocks': 1, 'slam dunks': 0}\n"
     ]
    }
   ],
   "source": [
    "def player_stats(player_name):\n",
    "    return players[player_name]\n",
    "\n",
    "print(player_stats('Ben Gordon'))"
   ]
  },
  {
   "cell_type": "code",
   "execution_count": 34,
   "metadata": {},
   "outputs": [
    {
     "name": "stdout",
     "output_type": "stream",
     "text": [
      "[('Mason Plumlee', 12)]\n"
     ]
    }
   ],
   "source": [
    "def big_shoe_rebounds():\n",
    "    shoe_list = [v['shoe'] for k, v in players.items()]\n",
    "    biggest_shoe = max(shoe_list)\n",
    "    player_largest_shoe = [k for k, v in players.items() if v['shoe'] == biggest_shoe]\n",
    "    largest_shoe_rebound = [v['rebounds'] for k, v in players.items() if v['shoe'] == biggest_shoe]\n",
    "    player_largest_shoe_rebound = list(zip(player_largest_shoe, largest_shoe_rebound))\n",
    "    return player_largest_shoe_rebound\n",
    "\n",
    "print(big_shoe_rebounds())"
   ]
  },
  {
   "cell_type": "code",
   "execution_count": 36,
   "metadata": {},
   "outputs": [
    {
     "name": "stdout",
     "output_type": "stream",
     "text": [
      "['Brendan Haywood']\n"
     ]
    }
   ],
   "source": [
    "def player_with_highest_stat(stat):\n",
    "    selected_stat = [v[stat] for k,v in players.items()]\n",
    "    largest_stat = max(selected_stat)\n",
    "    player_with_max_stat = [k for k,v in players.items() if v[stat] == largest_stat]\n",
    "    return player_with_max_stat\n",
    "\n",
    "print(player_with_highest_stat('steals'))"
   ]
  },
  {
   "cell_type": "code",
   "execution_count": 38,
   "metadata": {},
   "outputs": [
    {
     "name": "stdout",
     "output_type": "stream",
     "text": [
      "['Ben Gordon']\n"
     ]
    }
   ],
   "source": [
    "def most_points_scored():\n",
    "    return player_with_highest_stat('points')\n",
    "\n",
    "print(most_points_scored())"
   ]
  },
  {
   "cell_type": "code",
   "execution_count": 39,
   "metadata": {},
   "outputs": [
    {
     "name": "stdout",
     "output_type": "stream",
     "text": [
      "Brooklyn Nets\n"
     ]
    }
   ],
   "source": [
    "def winning_team():\n",
    "    team_dict = game_dictionary\n",
    "    home_info = game_dictionary['home']['players']\n",
    "    away_info = game_dictionary['away']['players']\n",
    "    home_points = [v['points'] for k,v in home_info.items()]\n",
    "    away_points = [v['points'] for k,v in away_info.items()]\n",
    "    sum_home_points = sum(home_points)\n",
    "    sum_away_points = sum(away_points)\n",
    "    if sum_home_points > sum_away_points:\n",
    "        return game_dictionary['home']['team_name']\n",
    "    else:\n",
    "        return game_dictionary['away']['team_name']\n",
    "\n",
    "print(winning_team())"
   ]
  },
  {
   "cell_type": "code",
   "execution_count": 40,
   "metadata": {},
   "outputs": [
    {
     "name": "stdout",
     "output_type": "stream",
     "text": [
      "['Bismack Biyombo', 'Brendan Haywood']\n"
     ]
    }
   ],
   "source": [
    "def player_with_longest_name():\n",
    "    player_names = [k for k, v in players.items()]\n",
    "    name_length = []\n",
    "    longest_named_player = []\n",
    "    for name in player_names:\n",
    "        length = len(name)\n",
    "        name_length.append(length)\n",
    "    for name in player_names:\n",
    "        if len(name) == max(name_length):\n",
    "            longest_named_player.append(name)\n",
    "    #longest_named_player.append(max(name_length))\n",
    "    return longest_named_player\n",
    "\n",
    "print(player_with_longest_name())"
   ]
  },
  {
   "cell_type": "code",
   "execution_count": 42,
   "metadata": {},
   "outputs": [
    {
     "name": "stdout",
     "output_type": "stream",
     "text": [
      "True\n"
     ]
    }
   ],
   "source": [
    "def long_name_steals_a_ton():\n",
    "    for player in player_with_highest_stat('steals'):\n",
    "        if player in player_with_longest_name():\n",
    "            return True\n",
    "\n",
    "print(long_name_steals_a_ton())"
   ]
  },
  {
   "cell_type": "code",
   "execution_count": null,
   "metadata": {},
   "outputs": [],
   "source": []
  }
 ],
 "metadata": {
  "kernelspec": {
   "display_name": "Python 3",
   "language": "python",
   "name": "python3"
  },
  "language_info": {
   "codemirror_mode": {
    "name": "ipython",
    "version": 3
   },
   "file_extension": ".py",
   "mimetype": "text/x-python",
   "name": "python",
   "nbconvert_exporter": "python",
   "pygments_lexer": "ipython3",
   "version": "3.6.5"
  }
 },
 "nbformat": 4,
 "nbformat_minor": 2
}
